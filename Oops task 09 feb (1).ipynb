{
 "cells": [
  {
   "cell_type": "code",
   "execution_count": null,
   "id": "939cc551-0f4a-4792-85c8-264bd9401711",
   "metadata": {},
   "outputs": [],
   "source": []
  },
  {
   "cell_type": "code",
   "execution_count": 24,
   "id": "74aa554b-ee86-45eb-9783-d2e0fd436f5e",
   "metadata": {},
   "outputs": [
    {
     "name": "stdout",
     "output_type": "stream",
     "text": [
      "Thar\n",
      "150\n",
      "40\n"
     ]
    }
   ],
   "source": [
    "##  Q1, Create a vehicle class with an init method having instance variables as name_of_vehicle, max_speed\n",
    "#   and average_of_vehicle.\n",
    "\n",
    "class vehicle:\n",
    "    def __init__(self , name_of_vehicle , max_speed , average_of_vehicle):\n",
    "        self.name_of_vehicle = name_of_vehicle\n",
    "        self.max_speed = max_speed\n",
    "        self.average_of_vehicle = average_of_vehicle\n",
    "        \n",
    "\n",
    "        \n",
    "obj = vehicle(\"Thar\" , 150 , 40 )\n",
    "\n",
    "print(obj.name_of_vehicle)\n",
    "print(obj.max_speed)\n",
    "print(obj.average_of_vehicle)\n",
    "\n",
    "\n",
    "\n",
    "        \n",
    "        \n",
    "        "
   ]
  },
  {
   "cell_type": "code",
   "execution_count": 20,
   "id": "038ff402-4090-4ddc-821e-d9dd33c26ce9",
   "metadata": {},
   "outputs": [
    {
     "name": "stdout",
     "output_type": "stream",
     "text": [
      "India is my country\n",
      "Maharashtra is my state\n"
     ]
    }
   ],
   "source": [
    "# Q.3  What is multiple inheritance? Write a python code to demonstrate multiple inheritance.                        \n",
    "\n",
    "#Ans: A class can be derived from more than one superclass in Python. This is called multiple inheritance.\n",
    "\n",
    "class India:\n",
    "    def info(self):\n",
    "        print(\"India is my country\")\n",
    "        \n",
    "class Maharashtra:\n",
    "    def infp(self):\n",
    "        print(\"Maharashtra is my state\")\n",
    "        \n",
    "class Both(India , Maharashtra):\n",
    "    pass\n",
    "\n",
    "obj = Both()\n",
    "obj.info()\n",
    "obj.infp()"
   ]
  },
  {
   "cell_type": "code",
   "execution_count": 1,
   "id": "b0e5dac2-4a2a-4473-887c-c8e57d42cefb",
   "metadata": {},
   "outputs": [
    {
     "name": "stdout",
     "output_type": "stream",
     "text": [
      "20\n",
      "20\n"
     ]
    }
   ],
   "source": [
    "#  Q4. What are getter and setter in python? Create a class and create a getter and a setter method in this\n",
    "#  class.\n",
    "\n",
    "\n",
    "\n",
    "#  Ans:  Getters and setters are used to protect your data, particularly when creating classes. For each instance variable, a getter method returns its value while a setter method sets or updates its value.\n",
    "\n",
    "class geek:\n",
    "    def __init__(self,age = 0):\n",
    "        self._age = age\n",
    "        \n",
    "    def get_age(self):\n",
    "        return self._age\n",
    "    \n",
    "    def set_age(self,x):\n",
    "        self._age = x\n",
    "        \n",
    "obj = geek()\n",
    "\n",
    "obj.set_age(20)\n",
    "\n",
    "print(obj.get_age())\n",
    "print(obj._age)\n",
    "        \n"
   ]
  },
  {
   "cell_type": "code",
   "execution_count": 2,
   "id": "40e0cae2-6a5c-40a4-8239-fa8e23010409",
   "metadata": {},
   "outputs": [
    {
     "name": "stdout",
     "output_type": "stream",
     "text": [
      "Loving Family\n",
      "Lovely child\n",
      "Inside Grandchild\n"
     ]
    }
   ],
   "source": [
    "#  Q5.What is method overriding in python? Write a python code to demonstrate method overriding.\n",
    "\n",
    "#  Ans: \n",
    "\n",
    "class parent():\n",
    "    def display(self):\n",
    "        print(\"Loving Family\")\n",
    "        \n",
    "class child(parent):\n",
    "    def show(self):\n",
    "        print(\"Lovely child\")\n",
    "        \n",
    "class grandchild(child):\n",
    "    def info(self):\n",
    "        print(\"Inside Grandchild\")\n",
    "        \n",
    "obj = grandchild()\n",
    "obj.display()\n",
    "obj.show()\n",
    "obj.info()"
   ]
  },
  {
   "cell_type": "code",
   "execution_count": null,
   "id": "fc14a55c-a303-4d41-9f93-baaa8355e477",
   "metadata": {},
   "outputs": [],
   "source": []
  },
  {
   "cell_type": "code",
   "execution_count": null,
   "id": "a631c24b-8c46-43f9-80d8-00dd37222a6f",
   "metadata": {},
   "outputs": [],
   "source": []
  },
  {
   "cell_type": "code",
   "execution_count": null,
   "id": "1dd1359a-96b8-48bc-9c04-3511bdbdccfb",
   "metadata": {},
   "outputs": [],
   "source": []
  }
 ],
 "metadata": {
  "kernelspec": {
   "display_name": "Python 3 (ipykernel)",
   "language": "python",
   "name": "python3"
  },
  "language_info": {
   "codemirror_mode": {
    "name": "ipython",
    "version": 3
   },
   "file_extension": ".py",
   "mimetype": "text/x-python",
   "name": "python",
   "nbconvert_exporter": "python",
   "pygments_lexer": "ipython3",
   "version": "3.10.8"
  }
 },
 "nbformat": 4,
 "nbformat_minor": 5
}
